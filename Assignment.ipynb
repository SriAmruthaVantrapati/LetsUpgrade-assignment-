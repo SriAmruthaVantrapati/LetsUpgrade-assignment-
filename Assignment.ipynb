{
  "nbformat": 4,
  "nbformat_minor": 0,
  "metadata": {
    "colab": {
      "provenance": [],
      "authorship_tag": "ABX9TyMKDr+C/Td6xpA1U44sFwir",
      "include_colab_link": true
    },
    "kernelspec": {
      "name": "python3",
      "display_name": "Python 3"
    },
    "language_info": {
      "name": "python"
    }
  },
  "cells": [
    {
      "cell_type": "markdown",
      "metadata": {
        "id": "view-in-github",
        "colab_type": "text"
      },
      "source": [
        "<a href=\"https://colab.research.google.com/github/SriAmruthaVantrapati/LetsUpgrade-assignment-/blob/main/Assignment.ipynb\" target=\"_parent\"><img src=\"https://colab.research.google.com/assets/colab-badge.svg\" alt=\"Open In Colab\"/></a>"
      ]
    },
    {
      "cell_type": "code",
      "source": [
        "Html code"
      ],
      "metadata": {
        "id": "0Ih53EdC1vAM"
      },
      "execution_count": null,
      "outputs": []
    },
    {
      "cell_type": "code",
      "execution_count": null,
      "metadata": {
        "id": "d0m10tcY1YY-"
      },
      "outputs": [],
      "source": [
        "<nav>\n",
        "  <ul>\n",
        "    <li><a href=\"#\">Home</a></li>\n",
        "    <li><a href=\"#\">About Us</a></li>\n",
        "    <li><a href=\"#\">Services</a></li>\n",
        "    <li><a href=\"#\">Contact Us</a></li>\n",
        "  </ul>\n",
        "</nav>"
      ]
    },
    {
      "cell_type": "code",
      "source": [
        "Css code"
      ],
      "metadata": {
        "id": "qahg4Z2a1mZw"
      },
      "execution_count": null,
      "outputs": []
    },
    {
      "cell_type": "code",
      "source": [
        "nav {\n",
        "  background-color: #333;\n",
        "  font-size: 18px;\n",
        "}\n",
        "\n",
        "nav ul {\n",
        "  list-style: none;\n",
        "  margin: 0;\n",
        "  padding: 0;\n",
        "  display: flex;\n",
        "}\n",
        "\n",
        "nav li {\n",
        "  margin: 0 10px;\n",
        "}\n",
        "\n",
        "nav a {\n",
        "  display: block;\n",
        "  color: #fff;\n",
        "  text-decoration: none;\n",
        "  padding: 10px;\n",
        "}\n",
        "\n",
        "nav a:hover {\n",
        "  background-color: #555;\n",
        "}"
      ],
      "metadata": {
        "id": "dCSrvJMx1hKc"
      },
      "execution_count": null,
      "outputs": []
    }
  ]
}