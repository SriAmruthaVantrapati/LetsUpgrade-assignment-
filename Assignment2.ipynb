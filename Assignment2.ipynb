{
  "nbformat": 4,
  "nbformat_minor": 0,
  "metadata": {
    "colab": {
      "provenance": [],
      "authorship_tag": "ABX9TyMZKfhNxdzILWl7kS3MfjOw",
      "include_colab_link": true
    },
    "kernelspec": {
      "name": "python3",
      "display_name": "Python 3"
    },
    "language_info": {
      "name": "python"
    }
  },
  "cells": [
    {
      "cell_type": "markdown",
      "metadata": {
        "id": "view-in-github",
        "colab_type": "text"
      },
      "source": [
        "<a href=\"https://colab.research.google.com/github/SriAmruthaVantrapati/LetsUpgrade-assignment-/blob/main/Assignment2.ipynb\" target=\"_parent\"><img src=\"https://colab.research.google.com/assets/colab-badge.svg\" alt=\"Open In Colab\"/></a>"
      ]
    },
    {
      "cell_type": "code",
      "execution_count": null,
      "metadata": {
        "id": "fz27V6FW42rQ"
      },
      "outputs": [],
      "source": [
        "Html code"
      ]
    },
    {
      "cell_type": "code",
      "source": [
        "<div class=\"parent\">\n",
        "  <div class=\"child\">Child 1</div>\n",
        "  <div class=\"child\">Child 2</div>\n",
        "  <div class=\"child\">Child 3</div>\n",
        "  <div class=\"child\">Child 4</div>\n",
        "</div>"
      ],
      "metadata": {
        "id": "hTZ3xDKg47vI"
      },
      "execution_count": null,
      "outputs": []
    },
    {
      "cell_type": "code",
      "source": [
        "CSS Code"
      ],
      "metadata": {
        "id": "0eEmyipC4-D5"
      },
      "execution_count": null,
      "outputs": []
    },
    {
      "cell_type": "code",
      "source": [
        ".parent {\n",
        "  display: flex; /* Set display to flex */\n",
        "  flex-direction: row; /* Set direction to row */\n",
        "}\n",
        "\n",
        ".child {\n",
        "  flex: 1; /* Distribute equal width */\n",
        "  height: 100px;\n",
        "  background-color: #ccc;\n",
        "  border: 1px solid #000;\n",
        "  margin: 10px;\n",
        "}"
      ],
      "metadata": {
        "id": "EOCQ8Yab5BP0"
      },
      "execution_count": null,
      "outputs": []
    }
  ]
}